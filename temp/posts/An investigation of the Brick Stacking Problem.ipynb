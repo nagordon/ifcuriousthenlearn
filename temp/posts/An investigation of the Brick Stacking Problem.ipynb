{
 "cells": [
  {
   "cell_type": "markdown",
   "metadata": {},
   "source": [
    "The original question I posed to myself is this. Can you stack bricks of equal dimensions and mass such that the top-most brick does not overlap the bottom-most brick? Or more generally, how far can bricks be stacked to generate the largest overhang? \n",
    "\n",
    "I pondered the problem and deliberately avoided finding solutions. I struggled through a few hand-calculations and hacked out a bit of python code to visualize my solution. \n",
    "\n",
    "The math of the problem is seemingly simple, just basic statics, but it becomes tricky as the problem is worked. We eventually find that the bricks stack according to a harmonic series!\n",
    "\n",
    "$ overhang = \\sum_{i=1}^{n} \\frac{1}{2i} $\n",
    "\n",
    "OK, lets get started. First run the code to create the `brick_balance` function that accepts total bricks, length of brick and thickness of brick and let's explore the solutions."
   ]
  },
  {
   "cell_type": "code",
   "execution_count": 1,
   "metadata": {},
   "outputs": [
    {
     "name": "stdout",
     "output_type": "stream",
     "text": [
      "brick_balance function created\n"
     ]
    }
   ],
   "source": [
    "import matplotlib.pyplot as plt\n",
    "import matplotlib.patches as patches\n",
    "import sys\n",
    "\n",
    "def brick_balance(ntot=52, L=1, t=0.1):\n",
    "    '''\n",
    "    This program calcuates bricks stacked on one another to maximize overhang\n",
    "    \n",
    "    # number of bricks, minimum 2\n",
    "    ntot = 7\n",
    "    \n",
    "    # length of brick\n",
    "    L = 1\n",
    "    \n",
    "    # thickness of brick\n",
    "    t = 0.15\n",
    "    \n",
    "    '''\n",
    "    # force variables to be integers and floats\n",
    "    ntot = int(ntot)\n",
    "    L = float(L)\n",
    "    t = float(t)\n",
    "    \n",
    "    plt.close('all')\n",
    "    \n",
    "    #overhang\n",
    "    v = [1/(2*k) for k in range(ntot,0,-1)]\n",
    "    #print('overhang=',v)\n",
    "    \n",
    "    x = [sum([k for k in v[0:n]]) for n in range(1,ntot+1)]\n",
    "    #print('x location = ',x)\n",
    "         \n",
    "    x.insert(0,0)\n",
    "    \n",
    "    x = [x1*L for x1 in x]\n",
    "    \n",
    "    #y = arange(t/2,(ntot+1)*t,t)\n",
    "    y = [z*t+t/2 for z in range(ntot+1)]\n",
    "    \n",
    "    # center of gravity\n",
    "    C = sum(x[1:])/(ntot)\n",
    "    \n",
    "    maxoverhang = max(x)+L/2 - C \n",
    "    \n",
    "    # plotting\n",
    "    fig2 = plt.figure()\n",
    "    ax2 = fig2.add_subplot(111)\n",
    "    for xi,yi in zip(x,y):\n",
    "        ax2.add_patch(patches.Rectangle((xi-L/2, yi-t/2),L,t,fill=False))    \n",
    "    plt.plot(x,y,'-o',[C,C],[0,max(y)],'--')\n",
    "    plt.axis('equal')\n",
    "    plt.title('n={}, L={}\", t={}\", max overhang={:0.2f}\"'.format(ntot,L,t,maxoverhang))\n",
    "    plt.ylabel('height, in')\n",
    "    plt.show()\n",
    "\n",
    "if __name__=='__main__':\n",
    "    \n",
    "    ## can use as a command line tool by uncommenting out the following 2 lines\n",
    "    #user_args = sys.argv[1:]\n",
    "    #n,L,t = user_args\n",
    "    \n",
    "    \n",
    "    #brick_balance(ntot=4,L=1,t=0.1)\n",
    "    \n",
    "    print('brick_balance function created')"
   ]
  },
  {
   "cell_type": "markdown",
   "metadata": {},
   "source": [
    "The simplest example is 2 bricks. Adults and children know that you cannot go more than half-way the length before the brick will topple off. For a brick of length 1 inch, the max overhang is 0.5 inches"
   ]
  },
  {
   "cell_type": "code",
   "execution_count": 2,
   "metadata": {},
   "outputs": [
    {
     "data": {
      "image/png": "[encoded data removed]",
      "text/plain": [
       "<matplotlib.figure.Figure at 0x2afc4a4d550>"
      ]
     },
     "metadata": {},
     "output_type": "display_data"
    }
   ],
   "source": [
    "brick_balance(ntot=1, L=1, t=0.1)"
   ]
  },
  {
   "cell_type": "markdown",
   "metadata": {},
   "source": [
    "So far so good. Now lets see if we can answer our question of if it is possible to allow the top brick to clear the bottom brick. After playing around the the total bricks, we arrive at 4 bricks. This solution is independent of brick length, thickness and weight! I thought this was very interesting!"
   ]
  },
  {
   "cell_type": "code",
   "execution_count": 3,
   "metadata": {},
   "outputs": [
    {
     "data": {
      "image/png": "[encoded data removed]",
      "text/plain": [
       "<matplotlib.figure.Figure at 0x2afc4a4d2b0>"
      ]
     },
     "metadata": {},
     "output_type": "display_data"
    }
   ],
   "source": [
    "brick_balance(ntot=4, L=1, t=0.1)"
   ]
  },
  {
   "cell_type": "markdown",
   "metadata": {},
   "source": [
    "Lastly, I was curious about how far you could theoretically overhang a deck of cards. Simply enter the parameters for a deck of cards, and voila, an overhang of nearly  8 inches! That was a bit mind-blowing."
   ]
  },
  {
   "cell_type": "code",
   "execution_count": 4,
   "metadata": {},
   "outputs": [
    {
     "data": {
      "image/png": "[encoded data removed]",
      "text/plain": [
       "<matplotlib.figure.Figure at 0x2afc6b0f080>"
      ]
     },
     "metadata": {},
     "output_type": "display_data"
    }
   ],
   "source": [
    "brick_balance(ntot=52, L=3.5, t=0.0115)"
   ]
  },
  {
   "cell_type": "markdown",
   "metadata": {},
   "source": [
    "The python code was a handy was to explore this puzzle once the initial math was figured out, and once the plotting is figured out, can help debug the math and create neat visuals. Once I got the answer (and tried a few real blocks stacked and measured and compared to my calculated results), I started searching online and here are some resources I found. \n",
    "\n",
    "Quanta has a great article here about the problem https://www.quantamagazine.org/20161117-overhang-insights-puzzle/ with solution https://www.quantamagazine.org/20161202-overhang-puzzle-solution/  \n",
    "\n",
    "Another explanation can be found here\n",
    "http://datagenetics.com/blog/may32013/index.html and http://mathworld.wolfram.com/BookStackingProblem.html  \n",
    "\n",
    "For more fun math puzzles, check out http://mathworld.wolfram.com/topics/Puzzles.html\n",
    "\n",
    "Stay Curious!"
   ]
  }
 ],
 "metadata": {
  "kernelspec": {
   "display_name": "Python 3",
   "language": "python",
   "name": "python3"
  },
  "language_info": {
   "codemirror_mode": {
    "name": "ipython",
    "version": 3
   },
   "file_extension": ".py",
   "mimetype": "text/x-python",
   "name": "python",
   "nbconvert_exporter": "python",
   "pygments_lexer": "ipython3",
   "version": "3.7.9"
  },
  "nikola": {
   "category": "engineering",
   "date": "2017-05-29 14:05:06 UTC-07:00",
   "description": "Another fun example of using math and python to investigate and solve a statics puzzle of brick stacking",
   "link": "",
   "slug": "brick-stacking",
   "tags": "tutorial, python, engineering",
   "title": "An investigation of the Brick Stacking Problem",
   "type": "text"
  }
 },
 "nbformat": 4,
 "nbformat_minor": 2
}
