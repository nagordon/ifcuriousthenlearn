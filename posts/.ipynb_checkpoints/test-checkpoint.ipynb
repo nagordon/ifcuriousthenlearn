{
 "cells": [
  {
   "cell_type": "markdown",
   "id": "acceptable-headquarters",
   "metadata": {},
   "source": [
    "Write your post here."
   ]
  }
 ],
 "metadata": {
  "kernelspec": {
   "display_name": "Python 3",
   "language": "python",
   "name": "python3"
  },
  "language_info": {
   "codemirror_mode": {
    "name": "ipython",
    "version": 3
   },
   "file_extension": ".py",
   "mimetype": "text/x-python",
   "name": "python",
   "nbconvert_exporter": "python",
   "pygments_lexer": "ipython3",
   "version": "3.7.9"
  },
  "nikola": {
   "category": "",
   "date": "2021-07-25 14:05:06 UTC-07:00",
   "description": "",
   "link": "",
   "slug": "test",
   "tags": "",
   "title": "test",
   "type": "text"
  }
 },
 "nbformat": 4,
 "nbformat_minor": 5
}
