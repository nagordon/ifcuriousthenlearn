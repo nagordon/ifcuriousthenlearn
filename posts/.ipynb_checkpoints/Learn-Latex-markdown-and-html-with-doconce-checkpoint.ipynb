{
 "cells": [
  {
   "cell_type": "markdown",
   "metadata": {},
   "source": [
    "# Neals First DocOnce Publication\n",
    "**Jun 4, 2015**\n",
    "\n",
    "**Summary.** My goal here is to learn the package [doconce](http://hplgit.github.io/doconce/doc/web/index.html), which is a markup syntax for creating scientific documents with many different types of outputs, including markdown, html, ipython notebooks, pdfs, and docx files. What's wrong with markdown? The short answer is nothing, it is great and important to know, however, some features that a needed for more advanced features, like figure/equation references, as well as including citations is needed, and haven't any good solution for that. \n",
    "All the up-to-date source code and various document formats can be found on the [github repository](https://github.com/nagordon/technotes/tree/master/doconce). \n",
    "\n",
    "\n",
    "\n",
    "\n",
    "\n",
    "\n",
    "\n",
    "\n",
    "## Introduction\n",
    "<div id=\"sec:intro\"></div>\n",
    "\n",
    "DocOnce is a lightweight markup language that is pure python, tso that it will work on any OS\n",
    "the source markdown files have extension *.do.txt\n",
    "each document should have the structure with a fig and src directory to keep images and code. The make.sh file is used to generate various documents with a lot of of custom settings. \n",
    "\n",
    "### SubIntro\n",
    "Since I have began blogging, I realized the importance of learning html, markdown, etc and now have been trying my best to learn tex and LaTeX. While doconce is a little buggy, it is still under active development and have found it very useful for learning how all the various markups work together. I still find microsoft products very handy, especially v2013, but when working with the web and version control systems, plain text sources files are great! So, if you haven't heard of doconce yet, check it out! \n",
    "\n",
    "#### SubSubIntro\n",
    "\n",
    "The main goal here is to generate an example document to help me learn and show you the syntax of doconce. Hopefully it will make sense and the errors are minimal! This is still a work in progress.\n",
    "\n",
    "\n",
    "## Headings, Labels, and References\n",
    "<div id=\"sec:hlr\"></div>\n",
    "\n",
    "For simple documents, chapters are not necessary, so only 7= are necessary to create a header for the section."
   ]
  },
  {
   "cell_type": "markdown",
   "metadata": {},
   "source": [
    "        chapter\t         ========= Heading ========= (9 =)\n",
    "        section\t         ======= Heading ======= (7 =)\n",
    "        subsection\t     ===== Heading ===== (5 =)\n",
    "        subsubsection\t === Heading === (3 =)\n",
    "        paragraph\t     __Heading.__ (2 _)\n",
    "        abstract\t     __Abstract.__ Running text...\n",
    "        appendix\t     ======= Appendix: heading ======= (7 =)\n",
    "        appendix\t     ===== Appendix: heading ===== (5 =)\n"
   ]
  },
  {
   "cell_type": "markdown",
   "metadata": {},
   "source": [
    "Labels are created with any text in curly braces and prefixed with label and then referenced with prefix ref. The ref must be enclosed with paranthesis. References can be made within the document with ([Introduction](#sec:intro)). Figures are referenced using , and to reference a section of the document like the code the section [Code](#sec:code)  or the bibliography can be created using the prefix cite. One example of what doconce can be used for is an entire book [[Langtangen]](#Langtangen). Also, equations can be referenced in a similar fashion, such as [(1)](#eqn:tsaihill). \n",
    "\n",
    "Index of keywords can be defined with"
   ]
  },
  {
   "cell_type": "markdown",
   "metadata": {},
   "source": [
    "        index{name}\n"
   ]
  },
  {
   "cell_type": "markdown",
   "metadata": {},
   "source": [
    "so that we have index{testindex}, and my favorite language index{python}"
   ]
  },
  {
   "cell_type": "markdown",
   "metadata": {},
   "source": [
    "        # define location label\n",
    "        \\label{sec:intro}\n",
    "        \n",
    "        # reference location label\n",
    "        \n",
    "        \n",
    "        # reference citations\n",
    "        cite{Langtangen}\n",
    "        \n"
   ]
  },
  {
   "cell_type": "markdown",
   "metadata": {},
   "source": [
    "### my subheading\n",
    "testing the subheading\n",
    "\n",
    "#### my subsubheading\n",
    "\n",
    "finally, the smallest heading we can have\n",
    "\n",
    "<!-- Lines beginning with # are comment lines -->\n",
    "\n",
    "## Code\n",
    "<div id=\"sec:code\"></div>\n",
    "\n",
    "Code can be identified in the text by enclosing the text in single back quotes, as in"
   ]
  },
  {
   "cell_type": "markdown",
   "metadata": {},
   "source": [
    "        'sudo apt-get install numpy'\n"
   ]
  },
  {
   "cell_type": "markdown",
   "metadata": {},
   "source": [
    "And an inline rendering of that is `sudo apt-get install numpy`. Which is handy when you do not want to start a new line everytime."
   ]
  },
  {
   "cell_type": "code",
   "execution_count": 1,
   "metadata": {},
   "outputs": [],
   "source": [
    "# a comment in my python code\n",
    "def f(x):\n",
    "    return 1 + x\n"
   ]
  },
  {
   "cell_type": "markdown",
   "metadata": {},
   "source": [
    "Also code can be inserted with this `@@@CODE src/hiwrld.py`"
   ]
  },
  {
   "cell_type": "code",
   "execution_count": 1,
   "metadata": {},
   "outputs": [],
   "source": [
    "\n",
    "# Here is an example python program\n",
    "\n",
    "x = 'hi doconce world'\n",
    "\n",
    "def hiworld(x):\n",
    "    print(x)\n",
    "\n",
    "# thats all\n"
   ]
  },
  {
   "cell_type": "markdown",
   "metadata": {},
   "source": [
    "This way, all the code can be kept in a usable form or in inserted easily if changes\n",
    "\n",
    "Here is the bash file that is used to generate all the various kinds of output files"
   ]
  },
  {
   "cell_type": "markdown",
   "metadata": {},
   "source": [
    "        #!/bin/sh\n",
    "        \n",
    "        \n",
    "        # create a variable of the doconce file\n",
    "        dofile='doconce_notes'\n",
    "        \n",
    "        ########################## cleanup \n",
    "        ####remove the pdfs and tex file that will be overwritten\n",
    "        rm $dofile.pdf\n",
    "        \n",
    "        ########################## Latex \n",
    "        #### Create a plain tex file\n",
    "        doconce format pdflatex $dofile \\\n",
    "        \t\t\t--latex_code_style=vrb \\\n",
    "        \t\t\t--latex_title_layout=std \\\n",
    "        \t\t\t--tables2csv  \n",
    "        \t\t\t#--latex_code_style=vrb\n",
    "        \n",
    "        rm -f *.aux\n",
    "        pdflatex $dofile.tex\n",
    "        bibtex $dofile\n",
    "        pdflatex $dofile.tex\n",
    "        pdflatex $dofile.tex\n",
    "        mv $dofile.pdf $dofile.simple.pdf\n",
    "        \n",
    "        #### Create tex file with fancy formatting and custom latex\n",
    "        doconce format pdflatex $dofile \\\n",
    "        \t\t\t--latex_code_style=pyg \\\n",
    "        \t\t\t--latex_title_layout=std \\\n",
    "        \t\t\t--latex_preamble=customization.tex\n",
    "        \t\t\t#--latex_todonotes  # includes inline notes\n",
    "        \n",
    "        #### helps position the figures\n",
    "        doconce replace 'begin{figure}[t]' 'begin{figure}' $dofile.tex\n",
    "        \n",
    "        # create the pdf of the tex file\t\n",
    "        rm -f *.aux\t\t\t\t\n",
    "        pdflatex -shell-escape -interaction=batchmode $dofile.tex\n",
    "        bibtex $dofile\n",
    "        pdflatex -shell-escape -interaction=batchmode $dofile.tex\n",
    "        pdflatex -shell-escape -interaction=batchmode $dofile.tex\n",
    "        mv $dofile.pdf $dofile.1col.pdf\n",
    "        \n",
    "        #### creates a two column article\n",
    "        python insert_tex.py $dofile.tex\n",
    "        # create the pdf of the tex file\t\n",
    "        rm -f *.aux\t\t\t\t\n",
    "        pdflatex -shell-escape -interaction=batchmode $dofile.tex\n",
    "        bibtex $dofile\n",
    "        pdflatex -shell-escape -interaction=batchmode $dofile.tex\n",
    "        pdflatex -shell-escape -interaction=batchmode $dofile.tex\n",
    "        mv $dofile.pdf $dofile.2col.pdf\n",
    "        \n",
    "        ########################## Markdown \n",
    "        \n",
    "        #create the github markdown from the doconce_notes.do.txt file\n",
    "        doconce format pandoc $dofile --github_md\n",
    "        \n",
    "        #From markdown to docx\n",
    "        pandoc -s -S $dofile.md -o $dofile.md.docx\n",
    "        \n",
    "        ########################## ipython notebook \n",
    "        \n",
    "        # create ipython notebook file\n",
    "        doconce format ipynb $dofile\n",
    "        \n",
    "        # create an html file from the ipynb\n",
    "        ipython nbconvert $dofile.ipynb\n",
    "        mv $dofile.html $dofile.ipynb.html\n",
    "        wkhtmltopdf $dofile.ipynb.html $dofile.ipynb.pdf\n",
    "        \n",
    "        ########################## Tables \n",
    "        doconce format --tables2csv\n",
    "        ########################## HTML \n",
    "        \n",
    "        # create a styled html file\n",
    "        doconce format html $dofile --html_style=tactile-black\n",
    "        wkhtmltopdf $dofile.html $dofile.html.pdf\n",
    "        \n",
    "        \n",
    "        ########################## cleanup \n",
    "        \n",
    "        doconce clean\n",
    "        \n",
    "        # remove all the files that are generated during doconce make\n",
    "        rm *.toc *.log *.aux *.out *.idx *.bbl *.blg *.gz\n",
    "        \n",
    "        # removes the trash directory\n",
    "        rm -R Trash\n"
   ]
  },
  {
   "cell_type": "markdown",
   "metadata": {},
   "source": [
    "## Lists\n",
    "\n",
    "Here are some examples of lists directly from the [documentation](http://hplgit.github.io/doconce/doc/pub/quickref/quickref.html)\n",
    "\n",
    "Here is a bullet list:\n",
    "\n",
    " * item1\n",
    "\n",
    " * item2\n",
    "\n",
    "  * subitem1 of item2\n",
    "\n",
    "  * subitem2 of item2,\n",
    "    second line of subitem2\n",
    "\n",
    "\n",
    " * item3\n",
    "\n",
    "Note that sublists are consistently indented by one or more blanks as\n",
    "shown: bullets must exactly match and continuation lines must start\n",
    "right below the line above.\n",
    "\n",
    "Here is an enumeration list:\n",
    "\n",
    "1. item1\n",
    "\n",
    "2. item2\n",
    "   may appear on\n",
    "   multiple lines\n",
    "\n",
    " 1. subitem1 of item2\n",
    "\n",
    " 2. subitem2 of item2\n",
    "\n",
    "\n",
    "3. item3\n",
    "\n",
    "And finally a description list:\n",
    "\n",
    " keyword1:\n",
    "  :    \n",
    "   followed by\n",
    "   some text\n",
    "   over multiple\n",
    "   lines\n",
    "\n",
    " keyword2:\n",
    "  :    \n",
    "   followed by text on the next line\n",
    "\n",
    " keyword3:\n",
    "  :    \n",
    "   and its description may fit on one line\n",
    "\n",
    "## Comments and Footnotes\n",
    "<div id=\"sec:com\"></div>\n",
    "\n",
    "Creating comments in the text is a handy way to supplement with optional information, one way is to use an inline comment such as [hpl 1: here I will make some\n",
    "remarks to the text]. Another way to add content is to add a footnote [^footnote] is also possible.\n",
    "\n",
    "[^footnote]: The syntax for footnotes is borrowed from Extended Markdown.\n",
    "\n",
    "## Math, Latex\n",
    "<div id=\"sec:math\"></div>\n",
    "\n",
    "inline latex can look like this \n",
    "$x = a_0 + \\frac{1}{\\displaystyle a_1 + \\frac{1}{\\displaystyle a_2 + \\frac{1}{\\displaystyle a_3 + a_4}}}$\n",
    "and another block"
   ]
  },
  {
   "cell_type": "markdown",
   "metadata": {},
   "source": [
    "$$\n",
    "\\frac{\\partial\\pmb{u}}{\\partial t} + \\pmb{u}\\cdot\\nabla\\pmb{u} = 0.\n",
    "$$"
   ]
  },
  {
   "cell_type": "markdown",
   "metadata": {},
   "source": [
    "and some inline latex,  $\\frac{\\partial y}{\\partial x}$ everybody loves partial differentiation\n",
    "\n",
    "and finally equations, can have a label such as"
   ]
  },
  {
   "cell_type": "markdown",
   "metadata": {},
   "source": [
    "<!-- Equation labels as ordinary links -->\n",
    "<div id=\"eqn:tsaihill\"></div>\n",
    "\n",
    "$$\n",
    "\\begin{equation}\n",
    "1 =  \\left(\\frac{\\sigma_{1}}{\\sigma_{1u}}\\right)^{2} + \\left(\\frac{\\sigma_{2}}{\\sigma_{2u}}\\right)^{2}  +  \\left(\\frac{\\tau_{12}}{\\tau_{12u}}\\right)^{2}  - \\left(\\frac{\\sigma_{1} \\sigma_{2}} {\\sigma_{1u} }\\right) \\label{eqn:tsaihill} \\tag{1}  \n",
    "\\end{equation}\n",
    "$$"
   ]
  },
  {
   "cell_type": "markdown",
   "metadata": {},
   "source": [
    "## Images\n",
    "<div id=\"sec:img\"></div>\n",
    "\n",
    "This section explains how to create images. The size can be adjusted with frac and the width adjusts the width when exporting to html\n",
    "\n",
    "for a really tiny image, we can use\n",
    "<div id=\"fig:myfig1\"></div>\n",
    "\n",
    "<p>My favorite linux desktop with frac-0.1.</p>\n",
    "<img src=\"/notebooks/doconce_notes/fig/mint.png\" width=650>\n",
    "\n",
    "\n",
    "\n",
    "and for a figure that is a bit bigger, we can increase the fraction size\n",
    "<div id=\"fig:myfig2\"></div>\n",
    "\n",
    "<p>My favorite linux desktop with frac-0.9.</p>\n",
    "<img src=\"/notebooks/doconce_notes/fig/mint.png\" width=650>\n",
    "\n",
    "\n",
    "\n",
    "\n",
    "\n",
    "## File Structure\n",
    "<div id=\"sec:fil\"></div>\n",
    "\n",
    "each document should have the structure with a fig and src directory to keep images and code. The make.sh file is used to generate various documents with a lot of of custom settings"
   ]
  },
  {
   "cell_type": "markdown",
   "metadata": {},
   "source": [
    "        doconce_notes.do.txt\n",
    "        doconce_notes.md\n",
    "        doconce_notes.pdf\n",
    "        fig\n",
    "        \tmint.png\n",
    "        make.sh\n",
    "        test.do.txt\n",
    "        test.pdf\n"
   ]
  },
  {
   "cell_type": "markdown",
   "metadata": {},
   "source": [
    "## Help\n",
    "\n",
    "help can be gotten from `doconce format --help`\n",
    "\n",
    "## Coverting Files"
   ]
  },
  {
   "cell_type": "markdown",
   "metadata": {},
   "source": [
    "        doconce format html test  # creates an html document\n",
    "        doconce format pandoc test   # creates markdown\n",
    "        doconce format latex test   # creates latex document\n",
    "        doconce format ipynb mydoc  # results in mydoc.ipynb\n",
    "        doconce format mwiki mydoc.do.txt  # creates a wiki page\n",
    "        doconce format ipynb test.do  # ipython notebook\n"
   ]
  },
  {
   "cell_type": "markdown",
   "metadata": {},
   "source": [
    "[Pandoc](http://pandoc.org/index.html) is a very powerful converter that can be used with doconce"
   ]
  },
  {
   "cell_type": "markdown",
   "metadata": {},
   "source": [
    "        #From markdown to docx\n",
    "        pandoc -s -S doconce_notes.md -o doconce_notes.md.docx\n",
    "        \n",
    "        #From markdown to PDF:\n",
    "        pandoc doconce_notes.md -o doconce_notes.md.pdf\n"
   ]
  },
  {
   "cell_type": "markdown",
   "metadata": {},
   "source": [
    "For compiling and document creation, please reference the *make.sh* file in this repository\n",
    "\n",
    "When running the make file, make sure it is executable and run it with"
   ]
  },
  {
   "cell_type": "markdown",
   "metadata": {},
   "source": [
    "        chmod +x make.sh\n",
    "        ./make.sh\n"
   ]
  },
  {
   "cell_type": "markdown",
   "metadata": {},
   "source": [
    "## Installation\n",
    "<div id=\"sec:install\"></div>\n",
    "\n",
    "I am using a Windows 7 laptop with \t\n",
    "\n",
    "[VirtualBox](https://www.virtualbox.org/wiki/Downloads)\n",
    "[Linux Mint 17.1](http://www.linuxmint.com/edition.php?id=172)\n",
    "\n",
    "Make sure your machine is up to date"
   ]
  },
  {
   "cell_type": "markdown",
   "metadata": {},
   "source": [
    "        sudo apt-get update && sudo apt-get upgrade\n"
   ]
  },
  {
   "cell_type": "markdown",
   "metadata": {},
   "source": [
    "Then, install python. A barebones python install with IMHO, the best python package maanger conda, the [miniconda package](http://conda.pydata.org/miniconda.html) is easy and [open-source](https://github.com/conda/conda)"
   ]
  },
  {
   "cell_type": "markdown",
   "metadata": {},
   "source": [
    "        # download\n",
    "        wget https://repo.continuum.io/miniconda/Miniconda-latest-Linux-x86_64.sh\n",
    "        # make sure shell file is excutable\n",
    "        chmod +x Miniconda-latest-Linux-x86_64.sh  \n",
    "        \n",
    "        # Execute\n",
    "        ./Miniconda-latest-Linux-x86_64.sh  \n"
   ]
  },
  {
   "cell_type": "markdown",
   "metadata": {},
   "source": [
    "I've gotten an error in the past with Linux Mint that conda command does not exist. This should fix it by creating a link with conda to the bin directory."
   ]
  },
  {
   "cell_type": "markdown",
   "metadata": {},
   "source": [
    "        sudo ln ~/anaconda/bin/conda /usr/local/bin/\n"
   ]
  },
  {
   "cell_type": "markdown",
   "metadata": {},
   "source": [
    "If miniconda is used, be sure to install the ipython notebook if you plan on using it"
   ]
  },
  {
   "cell_type": "markdown",
   "metadata": {},
   "source": [
    "        conda install ipython-notebook\n"
   ]
  },
  {
   "cell_type": "markdown",
   "metadata": {},
   "source": [
    "Next, make sure all the dependecies are installed. Latex is an integral part of doconce, as well as pandoc for converting markdown files and the like"
   ]
  },
  {
   "cell_type": "markdown",
   "metadata": {},
   "source": [
    "        sudo apt-get install texlive-full\n",
    "        sudo apt-get install pandoc\n"
   ]
  },
  {
   "cell_type": "markdown",
   "metadata": {},
   "source": [
    "Finally, we are ready to install doconce. There is a conda package that makes the installation very easy."
   ]
  },
  {
   "cell_type": "markdown",
   "metadata": {},
   "source": [
    "        conda install --channel johannr doconce\n"
   ]
  },
  {
   "cell_type": "markdown",
   "metadata": {},
   "source": [
    "Another option is to download a bash script [here](https://raw.githubusercontent.com/hplgit/doconce/master/doc/src/manual/install_doconce.sh) and use it to install"
   ]
  },
  {
   "cell_type": "markdown",
   "metadata": {},
   "source": [
    "        chmod +x install_doconce.sh  \n",
    "        ./bash install_doconce.sh\n"
   ]
  },
  {
   "cell_type": "markdown",
   "metadata": {},
   "source": [
    "## Sundries\n",
    "\n",
    "DO NOT USE UNDERSCORES IN ANY PART OF YOUR DOCUMENT, ONLY FOR MARKDOWN.\n",
    "\n",
    "\n",
    "## Handy Links\n",
    "<div id=\"sec:links\"></div>\n",
    "\n",
    "Examples of a couple of the output files can be found here\n",
    "[doconcenotes1colpdf](https://github.com/nagordon/technotes/blob/master/doconce/doconce_notes.1col.pdf) , [doconcenotes2colpdf](https://github.com/nagordon/technotes/blob/master/doconce/doconce_notes.2col.pdf) , [htmlblack](https://github.com/nagordon/technotes/blob/master/doconce/doconce_notes.html.pdf), [htmlipynb](https://github.com/nagordon/technotes/blob/master/doconce/doconce_notes.ipynb.pdf), and, although not great, [doconcedocx](https://github.com/nagordon/technotes/blob/master/doconce/doconce_notes.md.docx).\n",
    "\n",
    "main site <https://github.com/hplgit/doconce>\n",
    "\n",
    "[tutorial](http://hplgit.github.io/doconce/doc/pub/tutorial/tutorial.html)  \n",
    "\n",
    "[tutorial2](http://hplgit.github.io/doconce/doc/pub/tutorial/html/tutorial.html)  \n",
    "\n",
    "[demo](http://hplgit.github.io/teamods/writing_reports/index.html)  \n",
    "\n",
    "[quickref](http://hplgit.github.io/doconce/doc/pub/quickref/quickref.html)  \n",
    "\n",
    "[github website](http://hplgit.github.io/doconce/doc/web/index.html)  \n",
    "\n",
    "[scientific writing](http://hplgit.github.io/doconce/doc/pub/slides/scientific_writing-1.html)  \n",
    "\n",
    "[more examples](https://github.com/hplgit/hplgit.github.com/tree/master/teamods)  \n",
    "\n",
    "## References\n",
    "<div id=\"sec:ref\"></div>\n",
    "\n",
    " 1. <div id=\"Langtangen\"></div> **H. P. Langtangen**. \n",
    "    *A Primer on Scientific Programming With Python*,\n",
    "    4 edition,\n",
    "    Springer,\n",
    "    2014,\n",
    "    <http://www.springer.com/us/book/9783642549588>."
   ]
  }
 ],
 "metadata": {
  "kernelspec": {
   "display_name": "Python 3",
   "language": "python",
   "name": "python3"
  },
  "language_info": {
   "codemirror_mode": {
    "name": "ipython",
    "version": 3
   },
   "file_extension": ".py",
   "mimetype": "text/x-python",
   "name": "python",
   "nbconvert_exporter": "python",
   "pygments_lexer": "ipython3",
   "version": "3.7.9"
  },
  "nikola": {
   "category": "computing",
   "date": "2015-06-06 00:00:00 UTC-07:00",
   "description": "Write it once, deploy it anywhere",
   "link": "",
   "slug": "doconce-intro",
   "tags": "doconce, markdown, latex, python",
   "title": "Learn Latex, markdown and html with doconce",
   "type": "text"
  }
 },
 "nbformat": 4,
 "nbformat_minor": 1
}
