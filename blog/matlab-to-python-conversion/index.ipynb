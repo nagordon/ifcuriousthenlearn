{
 "cells": [
  {
   "cell_type": "markdown",
   "metadata": {},
   "source": [
    "# Matlab to Python conversion\n",
    "\n",
    "There seems to be an natural progression that occurs for users of data anaylsis programs. I believe the forces guiding those changes are not coincidental, but out of necessity based on the ease of learning, functionality, extensibility, scalability and cost. In my opinion, the best method for theory is still handwritten, but when more advanced concepts are learned, more powerful tools make those concepts easier to understand. \n",
    "\n",
    "Anectdotally, everyone seems to start with a spreadsheet application for data analysis and plotting, which, at least 3 or 4 years ago would have been a Microsoft product. Excel works well for simple plotting, small datasets, and the software is ubiqutous but not free. \n",
    "\n",
    "Some users may have had the curosity to investigate the macro tool and discovered programming by way of Visual Basic for Applications (VBA) in Excel. This gives the user a bit more control over data creation and processing with loops. \n",
    "\n",
    "Once at a university, many students, especially engineering students, will discover MATLAB, and realized that VBA is very tedious compared to MATLAB syntax. The student will spend hundreds of hours learning programming fundamentals with this great new tool, and create many programs with it.\n",
    "\n",
    "The crux of the programmers life so far will be when that MATLAB license expires and, not resorting to any illegal software copyright infringement, will be left out in the cold world of computing for data anaylsis and engineering.\n",
    "\n",
    "Until, one day, when that recent graduate discovers that the road does not end with MATLAB, but is just the beginning. The realization that real programming languages exist and are used every day for data anaylsis that do not cost a dime and work very well, but may have a bit of a learning curve.\n",
    "\n",
    "That is where we are now, how do I get all my old excel, matlab and vba projects into python? The first step is to install python. The really important library is [scipy](http://www.scipy.org/), which has nearly all the libraries one would need to perform basic scientific work. \n",
    "\n",
    "Note this work was done on a Windows 7 machine with Anaconda 2.7 installed"
   ]
  },
  {
   "cell_type": "markdown",
   "metadata": {},
   "source": [
    "## Option 1 - Manual Conversion  \n",
    "There are a few options for converting code. The most reliable is probably by hand. To covert by hand requires a through understanding of python and matlab. I am assuming matlab syntax is well understood, but python less so. scipy provides a [python for matlab users](http://wiki.scipy.org/NumPy_for_Matlab_Users) which describes to similarities and differences well, but the devil is in the details. Many other comparisions exist for python and matlab, like [here on pyzo's website](http://www.pyzo.org/python_vs_matlab.html)"
   ]
  },
  {
   "cell_type": "markdown",
   "metadata": {},
   "source": [
    "## Option 2 - Reuse old code with Octave  \n",
    "\n",
    "[oct2py](https://pypi.python.org/pypi/oct2py) , [source code](http://blink1073.github.io/oct2py/)\n",
    "This is a neat module that is based on [octave](http://www.gnu.org/software/octave/), which is an open-source matlab clone. It allows a simple translation of matlab/octave syntax to python directly."
   ]
  },
  {
   "cell_type": "code",
   "execution_count": 1,
   "metadata": {
    "collapsed": true
   },
   "outputs": [],
   "source": [
    "%matplotlib inline\n",
    "from oct2py import octave\n",
    "from oct2py import Oct2Py\n",
    "import numpy as np\n",
    "from IPython.display import Image\n",
    "from IPython.core.display import HTML "
   ]
  },
  {
   "cell_type": "markdown",
   "metadata": {},
   "source": [
    "Instantiate the Oct2Py object as oc"
   ]
  },
  {
   "cell_type": "code",
   "execution_count": 3,
   "metadata": {
    "collapsed": true
   },
   "outputs": [],
   "source": [
    "oc = Oct2Py()"
   ]
  },
  {
   "cell_type": "markdown",
   "metadata": {},
   "source": [
    "### Matrix creation"
   ]
  },
  {
   "cell_type": "markdown",
   "metadata": {},
   "source": [
    "First, lets remind ourselves of matlab sytnax of matrix/array creation (which I happen to prefer over python, but hey, beggers can't be choosers')"
   ]
  },
  {
   "cell_type": "code",
   "execution_count": 4,
   "metadata": {},
   "outputs": [
    {
     "data": {
      "text/plain": [
       "array([[ 1.,  2.,  3.]])"
      ]
     },
     "execution_count": 4,
     "metadata": {},
     "output_type": "execute_result"
    }
   ],
   "source": [
    "y = oc.eval(\"[1 2 3];\")\n",
    "y"
   ]
  },
  {
   "cell_type": "markdown",
   "metadata": {},
   "source": [
    "Not bad. For me, the difference in slicing arrays and matrices is a tough transition, but this makes it much easier than learning the fundamentals"
   ]
  },
  {
   "cell_type": "code",
   "execution_count": 5,
   "metadata": {},
   "outputs": [
    {
     "data": {
      "text/plain": [
       "array([[ 1.,  2.,  3.],\n",
       "       [ 4.,  5.,  6.]])"
      ]
     },
     "execution_count": 5,
     "metadata": {},
     "output_type": "execute_result"
    }
   ],
   "source": [
    "y = oc.eval(\"[1 2 3;4 5 6];\")\n",
    "y"
   ]
  },
  {
   "cell_type": "markdown",
   "metadata": {},
   "source": [
    "We can see it creates a matlab matrix and converts it exactly how we would need it in numpy"
   ]
  },
  {
   "cell_type": "code",
   "execution_count": 6,
   "metadata": {},
   "outputs": [
    {
     "data": {
      "text/plain": [
       "numpy.ndarray"
      ]
     },
     "execution_count": 6,
     "metadata": {},
     "output_type": "execute_result"
    }
   ],
   "source": [
    "type(y)"
   ]
  },
  {
   "cell_type": "markdown",
   "metadata": {},
   "source": [
    "Lets try something a bit more complex with analaogous syntax. Here is a matrix define natively in python"
   ]
  },
  {
   "cell_type": "code",
   "execution_count": 7,
   "metadata": {},
   "outputs": [
    {
     "data": {
      "text/plain": [
       "array([[  1.,   2.,   3.,   4.],\n",
       "       [  5.,   6.,   7.,   8.],\n",
       "       [  9.,  10.,  11.,  12.],\n",
       "       [ 13.,  14.,  15.,  16.]])"
      ]
     },
     "execution_count": 7,
     "metadata": {},
     "output_type": "execute_result"
    }
   ],
   "source": [
    "numpyarr = np.array([[1, 2,3,4], [5,6,7,8],[9,10,11,12],[13,14,15,16]], dtype=float)\n",
    "numpyarr"
   ]
  },
  {
   "cell_type": "markdown",
   "metadata": {},
   "source": [
    "and here is the same matrix defined in matlab/octave syntax"
   ]
  },
  {
   "cell_type": "code",
   "execution_count": 8,
   "metadata": {},
   "outputs": [
    {
     "data": {
      "text/plain": [
       "array([[  1.,   2.,   3.,   4.],\n",
       "       [  5.,   6.,   7.,   8.],\n",
       "       [  9.,  10.,  11.,  12.],\n",
       "       [ 13.,  14.,  15.,  16.]])"
      ]
     },
     "execution_count": 8,
     "metadata": {},
     "output_type": "execute_result"
    }
   ],
   "source": [
    "matlabarr = oc.eval(\"[1 2 3 4; 5 6 7 8; 9 10 11 12; 13 14 15 16];\") \n",
    "matlabarr"
   ]
  },
  {
   "cell_type": "markdown",
   "metadata": {},
   "source": [
    "clearly, they are the same!"
   ]
  },
  {
   "cell_type": "code",
   "execution_count": 9,
   "metadata": {},
   "outputs": [
    {
     "data": {
      "text/plain": [
       "array([[ True,  True,  True,  True],\n",
       "       [ True,  True,  True,  True],\n",
       "       [ True,  True,  True,  True],\n",
       "       [ True,  True,  True,  True]], dtype=bool)"
      ]
     },
     "execution_count": 9,
     "metadata": {},
     "output_type": "execute_result"
    }
   ],
   "source": [
    "matlabarr == numpyarr"
   ]
  },
  {
   "cell_type": "markdown",
   "metadata": {},
   "source": [
    "### Plotting with oct2py\n",
    "\n",
    "Just using oct2py, we can plot using [gnuplot](http://www.gnuplot.info/), I haven't been able to find a way to plot them inline, but they still look good in the gnuplot window"
   ]
  },
  {
   "cell_type": "code",
   "execution_count": 14,
   "metadata": {},
   "outputs": [],
   "source": [
    "x = np.arange(-2*np.pi, 2*np.pi, 0.1)\n",
    "y = np.sin(x)\n",
    "oc.plot(x,y,'-o', linewidth=2)"
   ]
  },
  {
   "cell_type": "markdown",
   "metadata": {},
   "source": [
    "<img src=\"../../files/matlab-to-python-conversion/images/octave.png\">  "
   ]
  },
  {
   "cell_type": "markdown",
   "metadata": {},
   "source": [
    "We can see that is uses wxpython, which is another gui package. I am not 100% sure when that package was installed, but I am guess it was installed along with Octave    \n",
    "\n",
    "<img src=\"../../files/matlab-to-python-conversion/images/plotting_window.png\">  "
   ]
  },
  {
   "cell_type": "markdown",
   "metadata": {},
   "source": [
    "## More matlab execution\n",
    "\n",
    "Although this doesn't convert the code to python, it executes it very well. Here is a MATLAB code snippet for LU Decomposition. We can create a python string with the contents of this and evaluate it as octave code"
   ]
  },
  {
   "cell_type": "markdown",
   "metadata": {},
   "source": [
    "```\n",
    "% function [L,U] = LUCrout(A)\n",
    "% Decomposes matrix A into a Lower matrix L and Upper matrix U\n",
    "% A = LU\n",
    "A = [1,5,3,5;  2,5,6,7; 9,0,3,4; 9,4,7,6]\n",
    "A\n",
    "[R,C] = size(A);\n",
    "for i = 1:R\n",
    "    L(i,1) = A(i,1);\n",
    "    U(i,i) = 1;\n",
    "end\n",
    "for j = 2:R\n",
    "    U(1,j) = A(1,j)/L(1,1);\n",
    "end\n",
    "for i = 2:R\n",
    "    for j = 2:i\n",
    "        L(i,j) = A(i,j) - L(i,1:j-1)*U(1:j-1,j);\n",
    "    end\n",
    "    for j = i+1:R\n",
    "        U(i,j) = (A(i,j) - L(i,1:i-1)*U(1:i-1,j))/L(i,i);\n",
    "    end\n",
    "end\n",
    "L\n",
    "U\n",
    "```"
   ]
  },
  {
   "cell_type": "code",
   "execution_count": 15,
   "metadata": {},
   "outputs": [],
   "source": [
    "x = '''\n",
    "% function [L,U] = LUCrout(A)\n",
    "% Decomposes matrix A into a Lower matrix L and Upper matrix U\n",
    "% A = LU\n",
    "A = [1,5,3,5;  2,5,6,7; 9,0,3,4; 9,4,7,6]\n",
    "A\n",
    "[R,C] = size(A);\n",
    "for i = 1:R\n",
    "    L(i,1) = A(i,1);\n",
    "    U(i,i) = 1;\n",
    "end\n",
    "for j = 2:R\n",
    "    U(1,j) = A(1,j)/L(1,1);\n",
    "end\n",
    "for i = 2:R\n",
    "    for j = 2:i\n",
    "        L(i,j) = A(i,j) - L(i,1:j-1)*U(1:j-1,j);\n",
    "    end\n",
    "    for j = i+1:R\n",
    "        U(i,j) = (A(i,j) - L(i,1:i-1)*U(1:i-1,j))/L(i,i);\n",
    "    end\n",
    "end\n",
    "L\n",
    "U\n",
    "'''"
   ]
  },
  {
   "cell_type": "code",
   "execution_count": 16,
   "metadata": {},
   "outputs": [
    {
     "name": "stdout",
     "output_type": "stream",
     "text": [
      "A =\n",
      "\n",
      "        1        5        3        5\n",
      "        2        5        6        7\n",
      "        9        0        3        4\n",
      "        9        4        7        6\n",
      "\n",
      "A =\n",
      "\n",
      "        1        5        3        5\n",
      "        2        5        6        7\n",
      "        9        0        3        4\n",
      "        9        4        7        6\n",
      "\n",
      "L =\n",
      "\n",
      "  1.0e+001 *\n",
      "\n",
      "  0.10000  0.00000  0.00000  0.00000\n",
      "  0.20000  -0.50000  0.00000  0.00000\n",
      "  0.90000  -4.50000  -2.40000  0.00000\n",
      "  0.90000  -4.10000  -2.00000  -0.27333\n",
      "\n",
      "U =\n",
      "\n",
      "  1.00000  5.00000  3.00000  5.00000\n",
      "  0.00000  1.00000  -0.00000  0.60000\n",
      "  0.00000  0.00000  1.00000  0.58333\n",
      "  0.00000  0.00000  0.00000  1.00000\n"
     ]
    }
   ],
   "source": [
    "oc.eval(x)"
   ]
  },
  {
   "cell_type": "markdown",
   "metadata": {},
   "source": [
    "If you are using an ipython notebook, we can take advantage of the magic functions and execute Octave/MATLAB code directly in the cells. To activate this functionality, we need to install Octave first, then install oct2py."
   ]
  },
  {
   "cell_type": "code",
   "execution_count": 17,
   "metadata": {},
   "outputs": [],
   "source": [
    "%load_ext oct2py.ipython"
   ]
  },
  {
   "cell_type": "markdown",
   "metadata": {},
   "source": [
    "For single line octave code, we can use this syntax"
   ]
  },
  {
   "cell_type": "code",
   "execution_count": 18,
   "metadata": {},
   "outputs": [
    {
     "data": {
      "text/plain": []
     },
     "metadata": {},
     "output_type": "display_data"
    },
    {
     "data": {
      "text/plain": [
       "array([[  1.,   2.,   3.,   4.],\n",
       "       [  5.,   6.,   7.,   8.],\n",
       "       [  9.,  10.,  11.,  12.],\n",
       "       [ 13.,  14.,  15.,  16.]])"
      ]
     },
     "execution_count": 18,
     "metadata": {},
     "output_type": "execute_result"
    }
   ],
   "source": [
    "x = %octave [1 2 3 4; 5 6 7 8; 9 10 11 12; 13 14 15 16];\n",
    "x"
   ]
  },
  {
   "cell_type": "markdown",
   "metadata": {},
   "source": [
    "This is very similar to the example earlier, except that is it running the code rather than evaluating a string. We can see that it creates a numpy array just like before"
   ]
  },
  {
   "cell_type": "code",
   "execution_count": 19,
   "metadata": {},
   "outputs": [
    {
     "data": {
      "text/plain": [
       "numpy.ndarray"
      ]
     },
     "execution_count": 19,
     "metadata": {},
     "output_type": "execute_result"
    }
   ],
   "source": [
    "type(x)"
   ]
  },
  {
   "cell_type": "markdown",
   "metadata": {},
   "source": [
    "If we want multi-line MATLAB/Octave sytax, we can use this syntax"
   ]
  },
  {
   "cell_type": "code",
   "execution_count": 20,
   "metadata": {},
   "outputs": [
    {
     "data": {
      "text/plain": [
       "x =\n",
       "\n",
       "        1        2        3        4\n",
       "        5        6        7        8\n",
       "        9       10       11       12\n",
       "       13       14       15       16\n",
       "\n",
       "ans = matrix"
      ]
     },
     "metadata": {},
     "output_type": "display_data"
    }
   ],
   "source": [
    "%%octave\n",
    "x = [1 2 3 4; 5 6 7 8; 9 10 11 12; 13 14 15 16];\n",
    "x\n",
    "typeinfo(x)"
   ]
  },
  {
   "cell_type": "markdown",
   "metadata": {},
   "source": [
    "in that cell, x is still a matlab matrix, but when we show 'x' in the next cell, it is now a numpy array"
   ]
  },
  {
   "cell_type": "code",
   "execution_count": 21,
   "metadata": {},
   "outputs": [
    {
     "data": {
      "text/plain": [
       "array([[  1.,   2.,   3.,   4.],\n",
       "       [  5.,   6.,   7.,   8.],\n",
       "       [  9.,  10.,  11.,  12.],\n",
       "       [ 13.,  14.,  15.,  16.]])"
      ]
     },
     "execution_count": 21,
     "metadata": {},
     "output_type": "execute_result"
    }
   ],
   "source": [
    "x"
   ]
  },
  {
   "cell_type": "markdown",
   "metadata": {},
   "source": [
    "Lets try our LU function by loading the file, and replacing adding the octave magic function. execute\n",
    "\n",
    "```\n",
    "%load LU.m\n",
    "```   \n",
    "\n",
    "and then add  \n",
    "\n",
    "```  \n",
    "%%octave  \n",
    "```  \n",
    "\n",
    "to the very top and delete \n",
    "\n",
    "```\n",
    "#%load LU.m\n",
    "```"
   ]
  },
  {
   "cell_type": "code",
   "execution_count": 22,
   "metadata": {},
   "outputs": [
    {
     "data": {
      "text/plain": [
       "A =\n",
       "\n",
       "        1        5        3        5\n",
       "        2        5        6        7\n",
       "        9        0        3        4\n",
       "        9        4        7        6\n",
       "\n",
       "A =\n",
       "\n",
       "        1        5        3        5\n",
       "        2        5        6        7\n",
       "        9        0        3        4\n",
       "        9        4        7        6\n",
       "\n",
       "L =\n",
       "\n",
       "  1.0e+001 *\n",
       "\n",
       "  0.10000  0.00000  0.00000  0.00000\n",
       "  0.20000  -0.50000  0.00000  0.00000\n",
       "  0.90000  -4.50000  -2.40000  0.00000\n",
       "  0.90000  -4.10000  -2.00000  -0.27333\n",
       "\n",
       "U =\n",
       "\n",
       "  1.00000  5.00000  3.00000  5.00000\n",
       "  0.00000  1.00000  -0.00000  0.60000\n",
       "  0.00000  0.00000  1.00000  0.58333\n",
       "  0.00000  0.00000  0.00000  1.00000"
      ]
     },
     "metadata": {},
     "output_type": "display_data"
    }
   ],
   "source": [
    "%%octave\n",
    "% function [L,U] = LUCrout(A)\n",
    "% Decomposes matrix A into a Lower matrix L and Upper matrix U\n",
    "% A = LU\n",
    "A = [1,5,3,5;  2,5,6,7; 9,0,3,4; 9,4,7,6]\n",
    "A\n",
    "[R,C] = size(A);\n",
    "for i = 1:R\n",
    "    L(i,1) = A(i,1);\n",
    "    U(i,i) = 1;\n",
    "end\n",
    "for j = 2:R\n",
    "    U(1,j) = A(1,j)/L(1,1);\n",
    "end\n",
    "for i = 2:R\n",
    "    for j = 2:i\n",
    "        L(i,j) = A(i,j) - L(i,1:j-1)*U(1:j-1,j);\n",
    "    end\n",
    "    for j = i+1:R\n",
    "        U(i,j) = (A(i,j) - L(i,1:i-1)*U(1:i-1,j))/L(i,i);\n",
    "    end\n",
    "end\n",
    "L\n",
    "U"
   ]
  },
  {
   "cell_type": "markdown",
   "metadata": {},
   "source": [
    "Excellent. This appraoch keeps the code more native than having the copy and paste the code and create a string to be evalauted. And just for fun we can plot inline also!!!"
   ]
  },
  {
   "cell_type": "code",
   "execution_count": 23,
   "metadata": {},
   "outputs": [
    {
     "data": {
      "text/plain": [
       "12*x^4 - 2.5*x^3 - 8*x^2 - 0.1*x^1 + 8"
      ]
     },
     "metadata": {},
     "output_type": "display_data"
    },
    {
     "data": {
      "image/svg+xml": [
       "<svg height=\"201px\" viewBox=\"0 0 268 201\" width=\"268px\" xmlns=\"http://www.w3.org/2000/svg\" xmlns:xlink=\"http://www.w3.org/1999/xlink\">\n",
       "\n",
       "<title>gnuplot</title>\n",
       "<desc>Produced by GNUPLOT 4.4 patchlevel 4 </desc>\n",
       "\n",
       "<defs>\n",
       "\n",
       "\t<circle id=\"gpDot\" r=\"0.5\" stroke-width=\"0.5\"/>\n",
       "\t<path d=\"M-1,0 h2 M0,-1 v2\" id=\"gpPt0\" stroke=\"currentColor\" stroke-width=\"0.333\"/>\n",
       "\t<path d=\"M-1,-1 L1,1 M1,-1 L-1,1\" id=\"gpPt1\" stroke=\"currentColor\" stroke-width=\"0.333\"/>\n",
       "\t<path d=\"M-1,0 L1,0 M0,-1 L0,1 M-1,-1 L1,1 M-1,1 L1,-1\" id=\"gpPt2\" stroke=\"currentColor\" stroke-width=\"0.333\"/>\n",
       "\t<rect height=\"2\" id=\"gpPt3\" stroke=\"currentColor\" stroke-width=\"0.333\" width=\"2\" x=\"-1\" y=\"-1\"/>\n",
       "\t<rect fill=\"currentColor\" height=\"2\" id=\"gpPt4\" stroke=\"currentColor\" stroke-width=\"0.333\" width=\"2\" x=\"-1\" y=\"-1\"/>\n",
       "\t<circle cx=\"0\" cy=\"0\" id=\"gpPt5\" r=\"1\" stroke=\"currentColor\" stroke-width=\"0.333\"/>\n",
       "\t<use fill=\"currentColor\" id=\"gpPt6\" stroke=\"none\" xlink:href=\"#gpPt5\"/>\n",
       "\t<path d=\"M0,-1.33 L-1.33,0.67 L1.33,0.67 z\" id=\"gpPt7\" stroke=\"currentColor\" stroke-width=\"0.333\"/>\n",
       "\t<use fill=\"currentColor\" id=\"gpPt8\" stroke=\"none\" xlink:href=\"#gpPt7\"/>\n",
       "\t<use id=\"gpPt9\" stroke=\"currentColor\" transform=\"rotate(180)\" xlink:href=\"#gpPt7\"/>\n",
       "\t<use fill=\"currentColor\" id=\"gpPt10\" stroke=\"none\" xlink:href=\"#gpPt9\"/>\n",
       "\t<use id=\"gpPt11\" stroke=\"currentColor\" transform=\"rotate(45)\" xlink:href=\"#gpPt3\"/>\n",
       "\t<use fill=\"currentColor\" id=\"gpPt12\" stroke=\"none\" xlink:href=\"#gpPt11\"/>\n",
       "</defs>\n",
       "<g style=\"fill:none; color:white; stroke:currentColor; stroke-width:1.00; stroke-linecap:butt; stroke-linejoin:miter\">\n",
       "</g>\n",
       "<g style=\"fill:none; color:white; stroke:currentColor; stroke-width:0.50; stroke-linecap:butt; stroke-linejoin:miter\">\n",
       "</g>\n",
       "<g style=\"fill:none; color:black; stroke:currentColor; stroke-width:0.50; stroke-linecap:butt; stroke-linejoin:miter\">\n",
       "\t<path d=\"M30.8,177.6 L39.2,177.6 M251.9,177.6 L243.5,177.6 \"/>\n",
       "\t<g style=\"stroke:none; fill:rgb(0,0,0); font-family:{}; font-size:10.00pt; text-anchor:end\" transform=\"translate(25.2,180.6)\">\n",
       "\t\t<text><tspan>6</tspan>\n",
       "\t\t</text>\n",
       "\t</g>\n",
       "\t<path d=\"M30.8,153.8 L39.2,153.8 M251.9,153.8 L243.5,153.8 \"/>\n",
       "\t<g style=\"stroke:none; fill:rgb(0,0,0); font-family:{}; font-size:10.00pt; text-anchor:end\" transform=\"translate(25.2,156.8)\">\n",
       "\t\t<text><tspan>6.5</tspan>\n",
       "\t\t</text>\n",
       "\t</g>\n",
       "\t<path d=\"M30.8,130.1 L39.2,130.1 M251.9,130.1 L243.5,130.1 \"/>\n",
       "\t<g style=\"stroke:none; fill:rgb(0,0,0); font-family:{}; font-size:10.00pt; text-anchor:end\" transform=\"translate(25.2,133.1)\">\n",
       "\t\t<text><tspan>7</tspan>\n",
       "\t\t</text>\n",
       "\t</g>\n",
       "\t<path d=\"M30.8,106.3 L39.2,106.3 M251.9,106.3 L243.5,106.3 \"/>\n",
       "\t<g style=\"stroke:none; fill:rgb(0,0,0); font-family:{}; font-size:10.00pt; text-anchor:end\" transform=\"translate(25.2,109.3)\">\n",
       "\t\t<text><tspan>7.5</tspan>\n",
       "\t\t</text>\n",
       "\t</g>\n",
       "\t<path d=\"M30.8,82.6 L39.2,82.6 M251.9,82.6 L243.5,82.6 \"/>\n",
       "\t<g style=\"stroke:none; fill:rgb(0,0,0); font-family:{}; font-size:10.00pt; text-anchor:end\" transform=\"translate(25.2,85.6)\">\n",
       "\t\t<text><tspan>8</tspan>\n",
       "\t\t</text>\n",
       "\t</g>\n",
       "\t<path d=\"M30.8,58.8 L39.2,58.8 M251.9,58.8 L243.5,58.8 \"/>\n",
       "\t<g style=\"stroke:none; fill:rgb(0,0,0); font-family:{}; font-size:10.00pt; text-anchor:end\" transform=\"translate(25.2,61.8)\">\n",
       "\t\t<text><tspan>8.5</tspan>\n",
       "\t\t</text>\n",
       "\t</g>\n",
       "\t<path d=\"M30.8,35.1 L39.2,35.1 M251.9,35.1 L243.5,35.1 \"/>\n",
       "\t<g style=\"stroke:none; fill:rgb(0,0,0); font-family:{}; font-size:10.00pt; text-anchor:end\" transform=\"translate(25.2,38.1)\">\n",
       "\t\t<text><tspan>9</tspan>\n",
       "\t\t</text>\n",
       "\t</g>\n",
       "\t<path d=\"M30.8,11.3 L39.2,11.3 M251.9,11.3 L243.5,11.3 \"/>\n",
       "\t<g style=\"stroke:none; fill:rgb(0,0,0); font-family:{}; font-size:10.00pt; text-anchor:end\" transform=\"translate(25.2,14.3)\">\n",
       "\t\t<text><tspan>9.5</tspan>\n",
       "\t\t</text>\n",
       "\t</g>\n",
       "\t<path d=\"M30.8,177.6 L30.8,169.2 M30.8,11.3 L30.8,19.7 \"/>\n",
       "\t<g style=\"stroke:none; fill:rgb(0,0,0); font-family:{}; font-size:10.00pt; text-anchor:middle\" transform=\"translate(30.8,192.6)\">\n",
       "\t\t<text><tspan>0</tspan>\n",
       "\t\t</text>\n",
       "\t</g>\n",
       "\t<path d=\"M75.0,177.6 L75.0,169.2 M75.0,11.3 L75.0,19.7 \"/>\n",
       "\t<g style=\"stroke:none; fill:rgb(0,0,0); font-family:{}; font-size:10.00pt; text-anchor:middle\" transform=\"translate(75.0,192.6)\">\n",
       "\t\t<text><tspan>0.2</tspan>\n",
       "\t\t</text>\n",
       "\t</g>\n",
       "\t<path d=\"M119.2,177.6 L119.2,169.2 M119.2,11.3 L119.2,19.7 \"/>\n",
       "\t<g style=\"stroke:none; fill:rgb(0,0,0); font-family:{}; font-size:10.00pt; text-anchor:middle\" transform=\"translate(119.2,192.6)\">\n",
       "\t\t<text><tspan>0.4</tspan>\n",
       "\t\t</text>\n",
       "\t</g>\n",
       "\t<path d=\"M163.5,177.6 L163.5,169.2 M163.5,11.3 L163.5,19.7 \"/>\n",
       "\t<g style=\"stroke:none; fill:rgb(0,0,0); font-family:{}; font-size:10.00pt; text-anchor:middle\" transform=\"translate(163.5,192.6)\">\n",
       "\t\t<text><tspan>0.6</tspan>\n",
       "\t\t</text>\n",
       "\t</g>\n",
       "\t<path d=\"M207.7,177.6 L207.7,169.2 M207.7,11.3 L207.7,19.7 \"/>\n",
       "\t<g style=\"stroke:none; fill:rgb(0,0,0); font-family:{}; font-size:10.00pt; text-anchor:middle\" transform=\"translate(207.7,192.6)\">\n",
       "\t\t<text><tspan>0.8</tspan>\n",
       "\t\t</text>\n",
       "\t</g>\n",
       "\t<path d=\"M251.9,177.6 L251.9,169.2 M251.9,11.3 L251.9,19.7 \"/>\n",
       "\t<g style=\"stroke:none; fill:rgb(0,0,0); font-family:{}; font-size:10.00pt; text-anchor:middle\" transform=\"translate(251.9,192.6)\">\n",
       "\t\t<text><tspan>1</tspan>\n",
       "\t\t</text>\n",
       "\t</g>\n",
       "\t<path d=\"M30.8,11.3 L30.8,177.6 L251.9,177.6 L251.9,11.3 L30.8,11.3 Z \"/>\n",
       "</g>\n",
       "\t<g id=\"Plot_1\"><title>Plot_1</title>\n",
       "<g style=\"fill:none; color:red; stroke:currentColor; stroke-width:0.50; stroke-linecap:butt; stroke-linejoin:miter\">\n",
       "\t<path d=\"M30.8,82.6 L33.0,82.7 L35.2,82.8 L37.4,83.1 L39.6,83.4 L41.9,83.8 L44.1,84.2 L46.3,84.8    L48.5,85.4 L50.7,86.1 L52.9,86.9 L55.1,87.8 L57.3,88.7 L59.5,89.7 L61.8,90.8 L64.0,91.9    L66.2,93.2 L68.4,94.5 L70.6,95.8 L72.8,97.3 L75.0,98.8 L77.2,100.3 L79.4,101.9 L81.7,103.6    L83.9,105.4 L86.1,107.1 L88.3,109.0 L90.5,110.9 L92.7,112.8 L94.9,114.8 L97.1,116.8 L99.3,118.8    L101.6,120.9 L103.8,123.0 L106.0,125.2 L108.2,127.3 L110.4,129.5 L112.6,131.7 L114.8,133.9 L117.0,136.1    L119.2,138.3 L121.5,140.5 L123.7,142.7 L125.9,144.8 L128.1,147.0 L130.3,149.1 L132.5,151.2 L134.7,153.3    L136.9,155.3 L139.1,157.3 L141.4,159.2 L143.6,161.0 L145.8,162.8 L148.0,164.6 L150.2,166.2 L152.4,167.8    L154.6,169.2 L156.8,170.6 L159.0,171.9 L161.2,173.0 L163.5,174.0 L165.7,174.9 L167.9,175.7 L170.1,176.3    L172.3,176.8 L174.5,177.1 L176.7,177.2 L178.9,177.2 L181.1,177.0 L183.4,176.6 L185.6,176.0 L187.8,175.2    L190.0,174.2 L192.2,172.9 L194.4,171.4 L196.6,169.7 L198.8,167.7 L201.0,165.4 L203.3,162.9 L205.5,160.0    L207.7,156.9 L209.9,153.5 L212.1,149.8 L214.3,145.7 L216.5,141.3 L218.7,136.6 L220.9,131.5 L223.2,126.0    L225.4,120.1 L227.6,113.9 L229.8,107.2 L232.0,100.2 L234.2,92.7 L236.4,84.8 L238.6,76.4 L240.8,67.6    L243.1,58.3 L245.3,48.5 L247.5,38.2 L249.7,27.4 L251.9,16.1 \" stroke=\"rgb(  0,   0, 255)\"/>\n",
       "</g>\n",
       "\t</g>\n",
       "<g style=\"fill:none; color:black; stroke:currentColor; stroke-width:0.50; stroke-linecap:butt; stroke-linejoin:miter\">\n",
       "</g>\n",
       "</svg>"
      ]
     },
     "metadata": {},
     "output_type": "display_data"
    }
   ],
   "source": [
    "%%octave\n",
    "p = [12 -2.5 -8 -0.1 8];\n",
    "x = 0:0.01:1;\n",
    "\n",
    "polyout(p, 'x')\n",
    "plot(x, polyval(p, x));"
   ]
  },
  {
   "cell_type": "code",
   "execution_count": 24,
   "metadata": {},
   "outputs": [
    {
     "data": {
      "text/plain": []
     },
     "metadata": {},
     "output_type": "display_data"
    },
    {
     "data": {
      "image/svg+xml": [
       "<svg height=\"201px\" viewBox=\"0 0 268 201\" width=\"268px\" xmlns=\"http://www.w3.org/2000/svg\" xmlns:xlink=\"http://www.w3.org/1999/xlink\">\n",
       "\n",
       "<title>gnuplot</title>\n",
       "<desc>Produced by GNUPLOT 4.4 patchlevel 4 </desc>\n",
       "\n",
       "<defs>\n",
       "\n",
       "\t<circle id=\"gpDot\" r=\"0.5\" stroke-width=\"0.5\"/>\n",
       "\t<path d=\"M-1,0 h2 M0,-1 v2\" id=\"gpPt0\" stroke=\"currentColor\" stroke-width=\"0.333\"/>\n",
       "\t<path d=\"M-1,-1 L1,1 M1,-1 L-1,1\" id=\"gpPt1\" stroke=\"currentColor\" stroke-width=\"0.333\"/>\n",
       "\t<path d=\"M-1,0 L1,0 M0,-1 L0,1 M-1,-1 L1,1 M-1,1 L1,-1\" id=\"gpPt2\" stroke=\"currentColor\" stroke-width=\"0.333\"/>\n",
       "\t<rect height=\"2\" id=\"gpPt3\" stroke=\"currentColor\" stroke-width=\"0.333\" width=\"2\" x=\"-1\" y=\"-1\"/>\n",
       "\t<rect fill=\"currentColor\" height=\"2\" id=\"gpPt4\" stroke=\"currentColor\" stroke-width=\"0.333\" width=\"2\" x=\"-1\" y=\"-1\"/>\n",
       "\t<circle cx=\"0\" cy=\"0\" id=\"gpPt5\" r=\"1\" stroke=\"currentColor\" stroke-width=\"0.333\"/>\n",
       "\t<use fill=\"currentColor\" id=\"gpPt6\" stroke=\"none\" xlink:href=\"#gpPt5\"/>\n",
       "\t<path d=\"M0,-1.33 L-1.33,0.67 L1.33,0.67 z\" id=\"gpPt7\" stroke=\"currentColor\" stroke-width=\"0.333\"/>\n",
       "\t<use fill=\"currentColor\" id=\"gpPt8\" stroke=\"none\" xlink:href=\"#gpPt7\"/>\n",
       "\t<use id=\"gpPt9\" stroke=\"currentColor\" transform=\"rotate(180)\" xlink:href=\"#gpPt7\"/>\n",
       "\t<use fill=\"currentColor\" id=\"gpPt10\" stroke=\"none\" xlink:href=\"#gpPt9\"/>\n",
       "\t<use id=\"gpPt11\" stroke=\"currentColor\" transform=\"rotate(45)\" xlink:href=\"#gpPt3\"/>\n",
       "\t<use fill=\"currentColor\" id=\"gpPt12\" stroke=\"none\" xlink:href=\"#gpPt11\"/>\n",
       "</defs>\n",
       "<g style=\"fill:none; color:white; stroke:currentColor; stroke-width:1.00; stroke-linecap:butt; stroke-linejoin:miter\">\n",
       "</g>\n",
       "<g style=\"fill:none; color:white; stroke:currentColor; stroke-width:0.50; stroke-linecap:butt; stroke-linejoin:miter\">\n",
       "</g>\n",
       "<g style=\"fill:none; color:black; stroke:currentColor; stroke-width:0.50; stroke-linecap:butt; stroke-linejoin:miter\">\n",
       "\t<path d=\"M54.0,163.2 L62.4,163.2 M251.9,163.2 L243.5,163.2 \"/>\n",
       "\t<g style=\"stroke:none; fill:rgb(0,0,0); font-family:{}; font-size:10.00pt; text-anchor:end\" transform=\"translate(48.4,166.2)\">\n",
       "\t\t<text><tspan>0</tspan>\n",
       "\t\t</text>\n",
       "\t</g>\n",
       "\t<path d=\"M54.0,137.8 L62.4,137.8 M251.9,137.8 L243.5,137.8 \"/>\n",
       "\t<g style=\"stroke:none; fill:rgb(0,0,0); font-family:{}; font-size:10.00pt; text-anchor:end\" transform=\"translate(48.4,140.8)\">\n",
       "\t\t<text><tspan>5000</tspan>\n",
       "\t\t</text>\n",
       "\t</g>\n",
       "\t<path d=\"M54.0,112.4 L62.4,112.4 M251.9,112.4 L243.5,112.4 \"/>\n",
       "\t<g style=\"stroke:none; fill:rgb(0,0,0); font-family:{}; font-size:10.00pt; text-anchor:end\" transform=\"translate(48.4,115.4)\">\n",
       "\t\t<text><tspan>10000</tspan>\n",
       "\t\t</text>\n",
       "\t</g>\n",
       "\t<path d=\"M54.0,86.9 L62.4,86.9 M251.9,86.9 L243.5,86.9 \"/>\n",
       "\t<g style=\"stroke:none; fill:rgb(0,0,0); font-family:{}; font-size:10.00pt; text-anchor:end\" transform=\"translate(48.4,89.9)\">\n",
       "\t\t<text><tspan>15000</tspan>\n",
       "\t\t</text>\n",
       "\t</g>\n",
       "\t<path d=\"M54.0,61.5 L62.4,61.5 M251.9,61.5 L243.5,61.5 \"/>\n",
       "\t<g style=\"stroke:none; fill:rgb(0,0,0); font-family:{}; font-size:10.00pt; text-anchor:end\" transform=\"translate(48.4,64.5)\">\n",
       "\t\t<text><tspan>20000</tspan>\n",
       "\t\t</text>\n",
       "\t</g>\n",
       "\t<path d=\"M54.0,36.1 L62.4,36.1 M251.9,36.1 L243.5,36.1 \"/>\n",
       "\t<g style=\"stroke:none; fill:rgb(0,0,0); font-family:{}; font-size:10.00pt; text-anchor:end\" transform=\"translate(48.4,39.1)\">\n",
       "\t\t<text><tspan>25000</tspan>\n",
       "\t\t</text>\n",
       "\t</g>\n",
       "\t<path d=\"M54.0,163.2 L54.0,154.8 M54.0,36.1 L54.0,44.5 \"/>\n",
       "\t<g style=\"stroke:none; fill:rgb(0,0,0); font-family:{}; font-size:10.00pt; text-anchor:middle\" transform=\"translate(54.0,178.2)\">\n",
       "\t\t<text><tspan>0</tspan>\n",
       "\t\t</text>\n",
       "\t</g>\n",
       "\t<path d=\"M93.6,163.2 L93.6,154.8 M93.6,36.1 L93.6,44.5 \"/>\n",
       "\t<g style=\"stroke:none; fill:rgb(0,0,0); font-family:{}; font-size:10.00pt; text-anchor:middle\" transform=\"translate(93.6,178.2)\">\n",
       "\t\t<text><tspan>2</tspan>\n",
       "\t\t</text>\n",
       "\t</g>\n",
       "\t<path d=\"M133.2,163.2 L133.2,154.8 M133.2,36.1 L133.2,44.5 \"/>\n",
       "\t<g style=\"stroke:none; fill:rgb(0,0,0); font-family:{}; font-size:10.00pt; text-anchor:middle\" transform=\"translate(133.2,178.2)\">\n",
       "\t\t<text><tspan>4</tspan>\n",
       "\t\t</text>\n",
       "\t</g>\n",
       "\t<path d=\"M172.7,163.2 L172.7,154.8 M172.7,36.1 L172.7,44.5 \"/>\n",
       "\t<g style=\"stroke:none; fill:rgb(0,0,0); font-family:{}; font-size:10.00pt; text-anchor:middle\" transform=\"translate(172.7,178.2)\">\n",
       "\t\t<text><tspan>6</tspan>\n",
       "\t\t</text>\n",
       "\t</g>\n",
       "\t<path d=\"M212.3,163.2 L212.3,154.8 M212.3,36.1 L212.3,44.5 \"/>\n",
       "\t<g style=\"stroke:none; fill:rgb(0,0,0); font-family:{}; font-size:10.00pt; text-anchor:middle\" transform=\"translate(212.3,178.2)\">\n",
       "\t\t<text><tspan>8</tspan>\n",
       "\t\t</text>\n",
       "\t</g>\n",
       "\t<path d=\"M251.9,163.2 L251.9,154.8 M251.9,36.1 L251.9,44.5 \"/>\n",
       "\t<g style=\"stroke:none; fill:rgb(0,0,0); font-family:{}; font-size:10.00pt; text-anchor:middle\" transform=\"translate(251.9,178.2)\">\n",
       "\t\t<text><tspan>10</tspan>\n",
       "\t\t</text>\n",
       "\t</g>\n",
       "\t<path d=\"M54.0,36.1 L54.0,163.2 L251.9,163.2 L251.9,36.1 L54.0,36.1 Z \"/>\n",
       "\t<g style=\"stroke:none; fill:rgb(0,0,0); font-family:{}; font-size:10.00pt; text-anchor:middle\" transform=\"translate(11.8,99.7) rotate(-90)\">\n",
       "\t\t<text><tspan>y</tspan>\n",
       "\t\t</text>\n",
       "\t</g>\n",
       "\t<g style=\"stroke:none; fill:rgb(0,0,0); font-family:{}; font-size:10.00pt; text-anchor:middle\" transform=\"translate(152.9,196.2)\">\n",
       "\t\t<text><tspan>x</tspan>\n",
       "\t\t</text>\n",
       "\t</g>\n",
       "\t<g style=\"stroke:none; fill:black; font-family:{}; font-size:10.00pt; text-anchor:middle\" transform=\"translate(152.9,21.1)\">\n",
       "\t\t<text><tspan>testing MATLAB/OCTAVE in python!</tspan>\n",
       "\t\t</text>\n",
       "\t</g>\n",
       "</g>\n",
       "\t<g id=\"Plot_1\"><title>Plot_1</title>\n",
       "<g style=\"fill:none; color:red; stroke:currentColor; stroke-width:0.50; stroke-linecap:butt; stroke-linejoin:miter\">\n",
       "\t<path d=\"M73.8,163.2 L93.6,163.2 L113.4,163.1 L133.2,162.9 L153.0,162.4 L172.7,161.1 L192.5,157.6 L212.3,148.0    L232.1,122.0 L251.9,51.2 \" stroke=\"rgb(  0,   0, 255)\"/>\n",
       "</g>\n",
       "\t</g>\n",
       "<g style=\"fill:none; color:black; stroke:currentColor; stroke-width:0.50; stroke-linecap:butt; stroke-linejoin:miter\">\n",
       "</g>\n",
       "</svg>"
      ]
     },
     "metadata": {},
     "output_type": "display_data"
    }
   ],
   "source": [
    "%%octave\n",
    "x = 1:10;\n",
    "y = exp(x);\n",
    "plot(x,y)\n",
    "xlabel('x')\n",
    "ylabel('y')\n",
    "title('testing MATLAB/OCTAVE in python!')"
   ]
  },
  {
   "cell_type": "markdown",
   "metadata": {},
   "source": [
    "Not bad for a few minutes of work. Lets take a look at what other options we have"
   ]
  },
  {
   "cell_type": "markdown",
   "metadata": {},
   "source": [
    "## Option 3 - SMOP\n",
    "###[SMOP](https://pypi.python.org/pypi/smop) (Small Matlab and Octave to Python Converter) or [here](https://github.com/victorlei/smop) \n",
    "The smop package seems impressive, and works well for an actual conversion of MATLAB code. Lets see how it works"
   ]
  },
  {
   "cell_type": "markdown",
   "metadata": {},
   "source": [
    "To convert a MATLAB file named LU.m, follow the sytanx here"
   ]
  },
  {
   "cell_type": "code",
   "execution_count": 117,
   "metadata": {},
   "outputs": [],
   "source": [
    "!python smop-0.26.2/smop/main.py LU.m"
   ]
  },
  {
   "cell_type": "markdown",
   "metadata": {},
   "source": [
    "the resulting file is 'a.py', which is the python equivalent. Lets have a peek and see how we did. load the file directly in ipython by\n",
    "\n",
    "```\n",
    "%load a.py\n",
    "```\n",
    "\n",
    "\n"
   ]
  },
  {
   "cell_type": "code",
   "execution_count": 127,
   "metadata": {},
   "outputs": [
    {
     "ename": "ImportError",
     "evalue": "No module named smop.runtime",
     "output_type": "error",
     "traceback": [
      "\u001b[1;31m---------------------------------------------------------------------------\u001b[0m",
      "\u001b[1;31mImportError\u001b[0m                               Traceback (most recent call last)",
      "\u001b[1;32m<ipython-input-127-98149b72d69c>\u001b[0m in \u001b[0;36m<module>\u001b[1;34m()\u001b[0m\n\u001b[0;32m      7\u001b[0m     \u001b[1;32mfrom\u001b[0m \u001b[0mruntime\u001b[0m \u001b[1;32mimport\u001b[0m \u001b[1;33m*\u001b[0m\u001b[1;33m\u001b[0m\u001b[0m\n\u001b[0;32m      8\u001b[0m \u001b[1;32mexcept\u001b[0m \u001b[0mImportError\u001b[0m\u001b[1;33m:\u001b[0m\u001b[1;33m\u001b[0m\u001b[0m\n\u001b[1;32m----> 9\u001b[1;33m     \u001b[1;32mfrom\u001b[0m \u001b[0msmop\u001b[0m\u001b[1;33m.\u001b[0m\u001b[0mruntime\u001b[0m \u001b[1;32mimport\u001b[0m \u001b[1;33m*\u001b[0m\u001b[1;33m\u001b[0m\u001b[0m\n\u001b[0m\u001b[0;32m     10\u001b[0m \u001b[1;33m\u001b[0m\u001b[0m\n\u001b[0;32m     11\u001b[0m \u001b[0mA\u001b[0m\u001b[1;33m=\u001b[0m\u001b[1;33m[\u001b[0m\u001b[1;33m[\u001b[0m\u001b[1;36m1\u001b[0m\u001b[1;33m,\u001b[0m\u001b[1;36m5\u001b[0m\u001b[1;33m,\u001b[0m\u001b[1;36m3\u001b[0m\u001b[1;33m,\u001b[0m\u001b[1;36m5\u001b[0m\u001b[1;33m]\u001b[0m\u001b[1;33m,\u001b[0m\u001b[1;33m[\u001b[0m\u001b[1;36m2\u001b[0m\u001b[1;33m,\u001b[0m\u001b[1;36m5\u001b[0m\u001b[1;33m,\u001b[0m\u001b[1;36m6\u001b[0m\u001b[1;33m,\u001b[0m\u001b[1;36m7\u001b[0m\u001b[1;33m]\u001b[0m\u001b[1;33m,\u001b[0m\u001b[1;33m[\u001b[0m\u001b[1;36m9\u001b[0m\u001b[1;33m,\u001b[0m\u001b[1;36m0\u001b[0m\u001b[1;33m,\u001b[0m\u001b[1;36m3\u001b[0m\u001b[1;33m,\u001b[0m\u001b[1;36m4\u001b[0m\u001b[1;33m]\u001b[0m\u001b[1;33m,\u001b[0m\u001b[1;33m[\u001b[0m\u001b[1;36m9\u001b[0m\u001b[1;33m,\u001b[0m\u001b[1;36m4\u001b[0m\u001b[1;33m,\u001b[0m\u001b[1;36m7\u001b[0m\u001b[1;33m,\u001b[0m\u001b[1;36m6\u001b[0m\u001b[1;33m]\u001b[0m\u001b[1;33m]\u001b[0m\u001b[1;33m\u001b[0m\u001b[0m\n",
      "\u001b[1;31mImportError\u001b[0m: No module named smop.runtime"
     ]
    }
   ],
   "source": [
    "# %load a.py\n",
    "# Autogenerated with SMOP version \n",
    "# smop-0.26.2/smop/main.py LU.m\n",
    "\n",
    "from __future__ import division\n",
    "try:\n",
    "    from runtime import *\n",
    "except ImportError:\n",
    "    from smop.runtime import *\n",
    "\n",
    "A=[[1,5,3,5],[2,5,6,7],[9,0,3,4],[9,4,7,6]]\n",
    "R,C=size(A,nargout=2)\n",
    "for i in arange_(1,R).reshape(-1):\n",
    "    L[i,1]=A(i,1)\n",
    "    U[i,i]=1\n",
    "for j in arange_(2,R).reshape(-1):\n",
    "    U[1,j]=A(1,j) / L(1,1)\n",
    "for i in arange_(2,R).reshape(-1):\n",
    "    for j in arange_(2,i).reshape(-1):\n",
    "        L[i,j]=A(i,j) - L(i,arange_(1,j - 1)) * U(arange_(1,j - 1),j)\n",
    "    for j in arange_(i + 1,R).reshape(-1):\n",
    "        U[i,j]=(A(i,j) - L(i,arange_(1,i - 1)) * U(arange_(1,i - 1),j)) / L(i,i)\n"
   ]
  },
  {
   "cell_type": "markdown",
   "metadata": {},
   "source": [
    "Yikes, not great. Looks like some info got lost in translation. I tried fixing it up a bit but didn't get anything worth while"
   ]
  },
  {
   "cell_type": "markdown",
   "metadata": {},
   "source": [
    "## Option 4 - LibreMat  \n",
    "\n",
    "### [LibreMate](http://sourceforge.net/projects/libermate/)\n",
    "\n",
    "I didn't install LibreMat because of the dependent packages, so I'll leave a review to someone else"
   ]
  },
  {
   "cell_type": "markdown",
   "metadata": {},
   "source": [
    "## Option 5 - OMPC\n",
    "\n",
    "### [OMPC](http://ompc.juricap.com/) (open-source matlab to python converter)\n",
    "\n",
    "The [examples](http://ompc.juricap.com/Examples) are descriptive and explain many user cases. When you are ready to convert, check out the [live web converter](http://ompclib.appspot.com/m2py) which is great for processing snippets. However, when I tried to convert the LU function above, I get this, which creates a wierd A array and an undeclared vector mslice. There may be an explanation of this in the documentation, but it isn't obvious I didn't look very much\n",
    "\n",
    "```\n",
    "A = mcat([1, 5, 3, 5, OMPCSEMI, 2, 5, 6, 7, OMPCSEMI, 9, 0, 3, 4, OMPCSEMI, 9, 4, 7, 6])\n",
    "A()\n",
    "[R, C] = size(A)\n",
    "for i in mslice[1:R]:\n",
    "    L(i, 1).lvalue = A(i, 1)\n",
    "    U(i, i).lvalue = 1\n",
    "    end\n",
    "    for j in mslice[2:R]:\n",
    "        U(1, j).lvalue = A(1, j) / L(1, 1)\n",
    "        end\n",
    "        for i in mslice[2:R]:\n",
    "            for j in mslice[2:i]:\n",
    "                L(i, j).lvalue = A(i, j) - L(i, mslice[1:j - 1]) * U(mslice[1:j - 1], j)\n",
    "                end\n",
    "                for j in mslice[i + 1:R]:\n",
    "                    U(i, j).lvalue = (A(i, j) - L(i, mslice[1:i - 1]) * U(mslice[1:i - 1], j)) / L(i, i)\n",
    "                    end\n",
    "                    end\n",
    "                    U()\n",
    "                    L()\n",
    "```\n",
    "\n",
    "The conversion generate non-usable code, so well scratch this one also "
   ]
  },
  {
   "cell_type": "markdown",
   "metadata": {},
   "source": [
    "## Summary\n",
    "I definitely prefer the oct2py package, I can run my native MATLAB code in a python environment, and surely there will be support for other languages in the ipython notebook (bash, R, Julia, etc)\n",
    "\n",
    "Now that we have some options for running MATLAB/Octave code in python, the conversion process should be easier. I will be posting projects as I convert them, so stay tuned. "
   ]
  }
 ],
 "metadata": {
  "kernelspec": {
   "display_name": "Python 3",
   "language": "python",
   "name": "python3"
  },
  "language_info": {
   "codemirror_mode": {
    "name": "ipython",
    "version": 3
   },
   "file_extension": ".py",
   "mimetype": "text/x-python",
   "name": "python",
   "nbconvert_exporter": "python",
   "pygments_lexer": "ipython3",
   "version": "3.7.9"
  },
  "nikola": {
   "category": "engineering",
   "date": "2015-05-05 14:05:06 UTC-07:00",
   "description": "A review of converting MATLAB code to python",
   "link": "",
   "slug": "matlab-to-python-conversion",
   "tags": "matlab, python, math",
   "title": "MATLAB to python conversion",
   "type": "text"
  }
 },
 "nbformat": 4,
 "nbformat_minor": 1
}
